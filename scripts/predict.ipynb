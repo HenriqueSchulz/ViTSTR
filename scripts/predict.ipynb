{
 "cells": [
  {
   "cell_type": "code",
   "execution_count": 1,
   "id": "8982e959-441f-4905-9949-ad55749a5347",
   "metadata": {},
   "outputs": [],
   "source": [
    "import yaml\n",
    "import torch\n",
    "import torch.backends.cudnn as cudnn\n",
    "from argparse import Namespace\n",
    "import pytorch_lightning as pl\n",
    "import pandas as pd\n",
    "\n",
    "from components.datamodule import DataModule\n",
    "from components.pl_wrapper import Model\n",
    "from vitstr import ModelConfig"
   ]
  },
  {
   "cell_type": "code",
   "execution_count": 4,
   "id": "df3febe9-2db6-4e28-9c09-ebbdc851b982",
   "metadata": {},
   "outputs": [
    {
     "name": "stderr",
     "output_type": "stream",
     "text": [
      "Global seed set to 230321\n"
     ]
    }
   ],
   "source": [
    "\"\"\"load configuration\"\"\"\n",
    "opt = Namespace(**yaml.safe_load(open(\"components/config.yaml\", \"r\")))\n",
    "\n",
    "\"\"\" Seed and GPU setting \"\"\"\n",
    "pl.seed_everything(opt.manualSeed)\n",
    "\n",
    "cudnn.benchmark = True\n",
    "cudnn.deterministic = True\n",
    "opt.num_gpu = torch.cuda.device_count()"
   ]
  },
  {
   "cell_type": "code",
   "execution_count": 6,
   "id": "ae874a23-b587-47d9-99bf-2524c11ed5d6",
   "metadata": {},
   "outputs": [
    {
     "name": "stdout",
     "output_type": "stream",
     "text": [
      "Namespace(adam=False, batch_max_length=10, batch_size=128, beta1=0.9, character='0123456789ABCDEFGHIJKLMNOPQRSTUVWXYZ', data_root='/home/fourind/projects/datas/indonesia-datas/', eps=1e-08, exp_name=None, grad_clip=5, imgH=224, imgW=224, img_size=(224, 224), kor=False, lr=1, manualSeed=230321, model_name='vitstr_base_patch16_224', num_epoch=1000, num_fiducial=20, num_gpu=1, pad=False, pretrained=False, rgb=False, rho=0.95, saved_model='saved_models/ViTSTR-Seed230321/epoch=24-val-acc=98.624.ckpt', scheduler=True, swa_epoch_start=5, swa_lrs=0.01, workers=24)\n"
     ]
    },
    {
     "name": "stderr",
     "output_type": "stream",
     "text": [
      "Using 16bit native Automatic Mixed Precision (AMP)\n",
      "GPU available: True (cuda), used: True\n",
      "TPU available: False, using: 0 TPU cores\n",
      "IPU available: False, using: 0 IPUs\n",
      "HPU available: False, using: 0 HPUs\n",
      "Missing logger folder: /home/fourind/projects/ViTSTR2/scripts/lightning_logs\n"
     ]
    },
    {
     "name": "stdout",
     "output_type": "stream",
     "text": [
      "Predict dataset size: 30772\n"
     ]
    },
    {
     "name": "stderr",
     "output_type": "stream",
     "text": [
      "LOCAL_RANK: 0 - CUDA_VISIBLE_DEVICES: [0]\n"
     ]
    },
    {
     "data": {
      "application/vnd.jupyter.widget-view+json": {
       "model_id": "29c6b1d69b1045b9a1c9b791c635a2c6",
       "version_major": 2,
       "version_minor": 0
      },
      "text/plain": [
       "Predicting: 0it [00:00, ?it/s]"
      ]
     },
     "metadata": {},
     "output_type": "display_data"
    }
   ],
   "source": [
    "cfg = ModelConfig()\n",
    "# Merge config with opt\n",
    "for k, v in vars(cfg).items():\n",
    "    if k not in vars(opt):\n",
    "        setattr(opt, k, v)\n",
    "if opt.kor:\n",
    "    kor_character = \"0123456789가강거경계고관광구금기김나남너노누다대더도동두등라러로루리마머명모무문미바배버보부북사산서소수시아악안양어연영오용우울원육이인자작저전조주중지차천초추충카타파평포하허호홀히\"\n",
    "    opt.character = kor_character\n",
    "print(opt)\n",
    "opt.saved_model = '../' + opt.saved_model\n",
    "\n",
    "dm = DataModule(opt)\n",
    "model = Model.load_from_checkpoint(opt.saved_model, opt=opt).eval()\n",
    "model.freeze()\n",
    "\n",
    "trainer = pl.Trainer(\n",
    "    accelerator=\"auto\",\n",
    "    devices=opt.num_gpu,\n",
    "    precision=16,\n",
    ")\n",
    "\n",
    "predict_result = trainer.predict(model, dm)"
   ]
  },
  {
   "cell_type": "code",
   "execution_count": 8,
   "id": "aa3a8fda-3c72-4ecb-ad1e-72a32e030384",
   "metadata": {},
   "outputs": [],
   "source": [
    "predict_result = [p for predict in predict_result for p in predict]"
   ]
  },
  {
   "cell_type": "code",
   "execution_count": 9,
   "id": "e361a217-9e5a-48e8-8e5b-7ff9bcaee274",
   "metadata": {},
   "outputs": [
    {
     "data": {
      "text/plain": [
       "30772"
      ]
     },
     "execution_count": 9,
     "metadata": {},
     "output_type": "execute_result"
    }
   ],
   "source": [
    "len(predict_result)"
   ]
  },
  {
   "cell_type": "code",
   "execution_count": 20,
   "id": "59cc16bf-20d9-4b03-9306-021bc06004a6",
   "metadata": {},
   "outputs": [],
   "source": [
    "predict_df = pd.DataFrame(\n",
    "    [\n",
    "        (\n",
    "            img_name.split(\".jpg\")[0].split(\"-\")[0],\n",
    "            pred.upper(),\n",
    "            conf.item(),\n",
    "        )\n",
    "        for img_name, pred, conf in predict_result\n",
    "    ],\n",
    "    columns=['label', 'pred', 'conf'],\n",
    ")\n",
    "predict_df[\"correct\"] = predict_df.apply(lambda x: x.label == x.pred, axis=1)"
   ]
  },
  {
   "cell_type": "code",
   "execution_count": 21,
   "id": "49bc99d1-9c2f-4d9c-ab9a-0f5be2663d3d",
   "metadata": {},
   "outputs": [
    {
     "data": {
      "text/html": [
       "<div>\n",
       "<style scoped>\n",
       "    .dataframe tbody tr th:only-of-type {\n",
       "        vertical-align: middle;\n",
       "    }\n",
       "\n",
       "    .dataframe tbody tr th {\n",
       "        vertical-align: top;\n",
       "    }\n",
       "\n",
       "    .dataframe thead th {\n",
       "        text-align: right;\n",
       "    }\n",
       "</style>\n",
       "<table border=\"1\" class=\"dataframe\">\n",
       "  <thead>\n",
       "    <tr style=\"text-align: right;\">\n",
       "      <th></th>\n",
       "      <th>label</th>\n",
       "      <th>pred</th>\n",
       "      <th>conf</th>\n",
       "      <th>correct</th>\n",
       "    </tr>\n",
       "  </thead>\n",
       "  <tbody>\n",
       "    <tr>\n",
       "      <th>0</th>\n",
       "      <td>YX4745XBL</td>\n",
       "      <td>YX4745XBL</td>\n",
       "      <td>0.478169</td>\n",
       "      <td>True</td>\n",
       "    </tr>\n",
       "    <tr>\n",
       "      <th>1</th>\n",
       "      <td>NJ9295OZJ</td>\n",
       "      <td>NJ9295OZJ</td>\n",
       "      <td>0.869117</td>\n",
       "      <td>True</td>\n",
       "    </tr>\n",
       "    <tr>\n",
       "      <th>2</th>\n",
       "      <td>XR6144BFO</td>\n",
       "      <td>XR6144BFO</td>\n",
       "      <td>0.479908</td>\n",
       "      <td>True</td>\n",
       "    </tr>\n",
       "    <tr>\n",
       "      <th>3</th>\n",
       "      <td>FQ9569VDS</td>\n",
       "      <td>FQ9569VDS</td>\n",
       "      <td>0.312318</td>\n",
       "      <td>True</td>\n",
       "    </tr>\n",
       "    <tr>\n",
       "      <th>4</th>\n",
       "      <td>JI7087ULH</td>\n",
       "      <td>JI7087ULH</td>\n",
       "      <td>0.849357</td>\n",
       "      <td>True</td>\n",
       "    </tr>\n",
       "    <tr>\n",
       "      <th>...</th>\n",
       "      <td>...</td>\n",
       "      <td>...</td>\n",
       "      <td>...</td>\n",
       "      <td>...</td>\n",
       "    </tr>\n",
       "    <tr>\n",
       "      <th>30767</th>\n",
       "      <td>F8602GL</td>\n",
       "      <td>F8002GL</td>\n",
       "      <td>0.662839</td>\n",
       "      <td>False</td>\n",
       "    </tr>\n",
       "    <tr>\n",
       "      <th>30768</th>\n",
       "      <td>QC7872UAT</td>\n",
       "      <td>QC7872UAT</td>\n",
       "      <td>0.407175</td>\n",
       "      <td>True</td>\n",
       "    </tr>\n",
       "    <tr>\n",
       "      <th>30769</th>\n",
       "      <td>LJ4980YXP</td>\n",
       "      <td>LJ4980YXP</td>\n",
       "      <td>0.329106</td>\n",
       "      <td>True</td>\n",
       "    </tr>\n",
       "    <tr>\n",
       "      <th>30770</th>\n",
       "      <td>SU0771BSL</td>\n",
       "      <td>SU0771BSL</td>\n",
       "      <td>0.506285</td>\n",
       "      <td>True</td>\n",
       "    </tr>\n",
       "    <tr>\n",
       "      <th>30771</th>\n",
       "      <td>KO9482HQY</td>\n",
       "      <td>KO9482HQY</td>\n",
       "      <td>0.862637</td>\n",
       "      <td>True</td>\n",
       "    </tr>\n",
       "  </tbody>\n",
       "</table>\n",
       "<p>30772 rows × 4 columns</p>\n",
       "</div>"
      ],
      "text/plain": [
       "           label       pred      conf  correct\n",
       "0      YX4745XBL  YX4745XBL  0.478169     True\n",
       "1      NJ9295OZJ  NJ9295OZJ  0.869117     True\n",
       "2      XR6144BFO  XR6144BFO  0.479908     True\n",
       "3      FQ9569VDS  FQ9569VDS  0.312318     True\n",
       "4      JI7087ULH  JI7087ULH  0.849357     True\n",
       "...          ...        ...       ...      ...\n",
       "30767    F8602GL    F8002GL  0.662839    False\n",
       "30768  QC7872UAT  QC7872UAT  0.407175     True\n",
       "30769  LJ4980YXP  LJ4980YXP  0.329106     True\n",
       "30770  SU0771BSL  SU0771BSL  0.506285     True\n",
       "30771  KO9482HQY  KO9482HQY  0.862637     True\n",
       "\n",
       "[30772 rows x 4 columns]"
      ]
     },
     "execution_count": 21,
     "metadata": {},
     "output_type": "execute_result"
    }
   ],
   "source": [
    "predict_df"
   ]
  },
  {
   "cell_type": "code",
   "execution_count": 22,
   "id": "1fb2f665-3841-4e92-81b9-af23d1ffad1d",
   "metadata": {},
   "outputs": [
    {
     "data": {
      "text/plain": [
       "count    30772.000000\n",
       "mean         0.527887\n",
       "std          0.265479\n",
       "min          0.013008\n",
       "25%          0.292346\n",
       "50%          0.489970\n",
       "75%          0.763499\n",
       "max          0.999900\n",
       "Name: conf, dtype: float64"
      ]
     },
     "execution_count": 22,
     "metadata": {},
     "output_type": "execute_result"
    }
   ],
   "source": [
    "predict_df.conf.describe()"
   ]
  },
  {
   "cell_type": "code",
   "execution_count": 23,
   "id": "524fd47c-9afb-49d1-bae2-c4d5fcb7a332",
   "metadata": {},
   "outputs": [],
   "source": [
    "failures = predict_df.loc[predict_df[\"correct\"] == False]"
   ]
  },
  {
   "cell_type": "code",
   "execution_count": 24,
   "id": "1614adf5-bfd6-47a8-ae23-727cb7ac077f",
   "metadata": {},
   "outputs": [
    {
     "data": {
      "text/html": [
       "<div>\n",
       "<style scoped>\n",
       "    .dataframe tbody tr th:only-of-type {\n",
       "        vertical-align: middle;\n",
       "    }\n",
       "\n",
       "    .dataframe tbody tr th {\n",
       "        vertical-align: top;\n",
       "    }\n",
       "\n",
       "    .dataframe thead th {\n",
       "        text-align: right;\n",
       "    }\n",
       "</style>\n",
       "<table border=\"1\" class=\"dataframe\">\n",
       "  <thead>\n",
       "    <tr style=\"text-align: right;\">\n",
       "      <th></th>\n",
       "      <th>label</th>\n",
       "      <th>pred</th>\n",
       "      <th>conf</th>\n",
       "      <th>correct</th>\n",
       "    </tr>\n",
       "  </thead>\n",
       "  <tbody>\n",
       "    <tr>\n",
       "      <th>204</th>\n",
       "      <td>FH9258KTI</td>\n",
       "      <td>FH9258KTT</td>\n",
       "      <td>0.198354</td>\n",
       "      <td>False</td>\n",
       "    </tr>\n",
       "    <tr>\n",
       "      <th>794</th>\n",
       "      <td>B1559FZI</td>\n",
       "      <td>B1959FZI</td>\n",
       "      <td>0.245729</td>\n",
       "      <td>False</td>\n",
       "    </tr>\n",
       "    <tr>\n",
       "      <th>878</th>\n",
       "      <td>F1686BF</td>\n",
       "      <td>F1186BF</td>\n",
       "      <td>0.600045</td>\n",
       "      <td>False</td>\n",
       "    </tr>\n",
       "    <tr>\n",
       "      <th>911</th>\n",
       "      <td>F1938HY</td>\n",
       "      <td>F1938NY</td>\n",
       "      <td>0.157552</td>\n",
       "      <td>False</td>\n",
       "    </tr>\n",
       "    <tr>\n",
       "      <th>934</th>\n",
       "      <td>B9622BXS</td>\n",
       "      <td>B9622AS</td>\n",
       "      <td>0.155904</td>\n",
       "      <td>False</td>\n",
       "    </tr>\n",
       "    <tr>\n",
       "      <th>...</th>\n",
       "      <td>...</td>\n",
       "      <td>...</td>\n",
       "      <td>...</td>\n",
       "      <td>...</td>\n",
       "    </tr>\n",
       "    <tr>\n",
       "      <th>30661</th>\n",
       "      <td>F1097RN</td>\n",
       "      <td>F1397RN</td>\n",
       "      <td>0.406754</td>\n",
       "      <td>False</td>\n",
       "    </tr>\n",
       "    <tr>\n",
       "      <th>30672</th>\n",
       "      <td>B2580ZAT</td>\n",
       "      <td>B2580TZA</td>\n",
       "      <td>0.426878</td>\n",
       "      <td>False</td>\n",
       "    </tr>\n",
       "    <tr>\n",
       "      <th>30720</th>\n",
       "      <td>D8123EE</td>\n",
       "      <td>D8137EE</td>\n",
       "      <td>0.435694</td>\n",
       "      <td>False</td>\n",
       "    </tr>\n",
       "    <tr>\n",
       "      <th>30762</th>\n",
       "      <td>F8444MS</td>\n",
       "      <td>F8444HE</td>\n",
       "      <td>0.303553</td>\n",
       "      <td>False</td>\n",
       "    </tr>\n",
       "    <tr>\n",
       "      <th>30767</th>\n",
       "      <td>F8602GL</td>\n",
       "      <td>F8002GL</td>\n",
       "      <td>0.662839</td>\n",
       "      <td>False</td>\n",
       "    </tr>\n",
       "  </tbody>\n",
       "</table>\n",
       "<p>432 rows × 4 columns</p>\n",
       "</div>"
      ],
      "text/plain": [
       "           label       pred      conf  correct\n",
       "204    FH9258KTI  FH9258KTT  0.198354    False\n",
       "794     B1559FZI   B1959FZI  0.245729    False\n",
       "878      F1686BF    F1186BF  0.600045    False\n",
       "911      F1938HY    F1938NY  0.157552    False\n",
       "934     B9622BXS    B9622AS  0.155904    False\n",
       "...          ...        ...       ...      ...\n",
       "30661    F1097RN    F1397RN  0.406754    False\n",
       "30672   B2580ZAT   B2580TZA  0.426878    False\n",
       "30720    D8123EE    D8137EE  0.435694    False\n",
       "30762    F8444MS    F8444HE  0.303553    False\n",
       "30767    F8602GL    F8002GL  0.662839    False\n",
       "\n",
       "[432 rows x 4 columns]"
      ]
     },
     "execution_count": 24,
     "metadata": {},
     "output_type": "execute_result"
    }
   ],
   "source": [
    "failures"
   ]
  },
  {
   "cell_type": "code",
   "execution_count": 34,
   "id": "901c8dda-e065-4ab2-8af6-e3677e9c0bbb",
   "metadata": {},
   "outputs": [],
   "source": [
    "correct = predict_df.correct.value_counts()"
   ]
  },
  {
   "cell_type": "code",
   "execution_count": 36,
   "id": "70596901-393d-474b-b099-5aedc9fe5dfa",
   "metadata": {},
   "outputs": [
    {
     "data": {
      "text/plain": [
       "0.9859612634862862"
      ]
     },
     "execution_count": 36,
     "metadata": {},
     "output_type": "execute_result"
    }
   ],
   "source": [
    "acc = correct[True] / (correct[True] + correct[False])\n",
    "acc"
   ]
  },
  {
   "cell_type": "code",
   "execution_count": null,
   "id": "1c09188a-6ec5-4d01-a71c-729f862c7b58",
   "metadata": {},
   "outputs": [],
   "source": []
  }
 ],
 "metadata": {
  "kernelspec": {
   "display_name": "Python 3 (ipykernel)",
   "language": "python",
   "name": "python3"
  },
  "language_info": {
   "codemirror_mode": {
    "name": "ipython",
    "version": 3
   },
   "file_extension": ".py",
   "mimetype": "text/x-python",
   "name": "python",
   "nbconvert_exporter": "python",
   "pygments_lexer": "ipython3",
   "version": "3.8.15"
  }
 },
 "nbformat": 4,
 "nbformat_minor": 5
}
